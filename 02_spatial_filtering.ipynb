{
  "cells": [
    {
      "cell_type": "markdown",
      "metadata": {
        "colab_type": "text",
        "id": "view-in-github"
      },
      "source": [
        "<a href=\"https://colab.research.google.com/github/machine-perception-robotics-group/ImageProcessingGoogleColabNotebooks/blob/master/02_spatial_filtering.ipynb\" target=\"_parent\"><img src=\"https://colab.research.google.com/assets/colab-badge.svg\" alt=\"Open In Colab\"/></a>"
      ]
    },
    {
      "cell_type": "markdown",
      "metadata": {
        "colab_type": "text",
        "id": "Lqbcj7vi2ZYW"
      },
      "source": [
        "# 02. 空間フィルタリング\n",
        "\n",
        "講義で説明する画像処理の方法について，google colaboratoryを利用して演習する．\n",
        "google colaboratoryは，クラウドで実行する Jupyter ノートブック環境である.\n",
        "google coraboratoryについては，[ここ](https://www.tdi.co.jp/miso/google-colaboratory-gpu)や[ここ](https://www.codexa.net/how-to-use-google-colaboratory/)を参考にすること．\n",
        "\n",
        "下記のプログラムを実行すると，フィルタによる画像の平滑化およびエッジの抽出，画像の先鋭化を行う．"
      ]
    },
    {
      "cell_type": "markdown",
      "metadata": {
        "colab_type": "text",
        "id": "7Bbaet2C4U7F"
      },
      "source": [
        "## 準備\n",
        "プログラムの動作に必要なデータをダウンロードし，zipファイルを解凍する．\n",
        "`!`で始まるコマンドはPythonではなく，Linux（Ubuntu）のコマンドを実行している．"
      ]
    },
    {
      "cell_type": "code",
      "execution_count": null,
      "metadata": {
        "colab": {},
        "colab_type": "code",
        "id": "3NYtuZtndzQ4"
      },
      "outputs": [],
      "source": [
        "!wget -q https://raw.githubusercontent.com/machine-perception-robotics-group/ImageProcessingGoogleColabNotebooks/master/image1.zip\n",
        "!unzip -q image1.zip\n",
        "!ls\n",
        "!ls ./image1/"
      ]
    },
    {
      "cell_type": "markdown",
      "metadata": {
        "colab_type": "text",
        "id": "mkwrQ8dwa2sZ"
      },
      "source": [
        "## モジュールのインポートと画像の読み込み\n",
        "はじめに，プログラムの動作に必要なモジュール（パッケージ）をインポートし，使用する画像を読み込む．"
      ]
    },
    {
      "cell_type": "code",
      "execution_count": null,
      "metadata": {
        "colab": {},
        "colab_type": "code",
        "id": "2LuA-_Lpp-Yy"
      },
      "outputs": [],
      "source": [
        "import cv2\n",
        "import numpy as np\n",
        "from matplotlib import pyplot as plt"
      ]
    },
    {
      "cell_type": "markdown",
      "metadata": {
        "colab_type": "text",
        "id": "WVHiujxzqAcC"
      },
      "source": [
        "まずはじめに，\n",
        "\n",
        "1. ノイズ無し画像\n",
        "2. ごま塩ノイズが含まれた画像\n",
        "3. スパイクノイズが含まれた画像\n",
        "\n",
        "を読み込み表示する．"
      ]
    },
    {
      "cell_type": "code",
      "execution_count": null,
      "metadata": {
        "colab": {},
        "colab_type": "code",
        "id": "UScKKI7fzi9i"
      },
      "outputs": [],
      "source": [
        "# グレースケール画像（ノイズ無し画像）\n",
        "img1 = cv2.imread('./image1/woman-g.jpg', 2)\n",
        "plt.imshow(img1, cmap = \"gray\", clim=(0, 255))"
      ]
    },
    {
      "cell_type": "code",
      "execution_count": null,
      "metadata": {
        "colab": {},
        "colab_type": "code",
        "id": "1oaRfcrQ4V1N"
      },
      "outputs": [],
      "source": [
        "# グレースケール画像（ごま塩ノイズが含まれた画像）\n",
        "img2 = cv2.imread('./image1/woman-n.jpg', 2)\n",
        "plt.imshow(img2, cmap = \"gray\", clim=(0, 255))"
      ]
    },
    {
      "cell_type": "code",
      "execution_count": null,
      "metadata": {
        "colab": {},
        "colab_type": "code",
        "id": "o9H1Alw94Wg8"
      },
      "outputs": [],
      "source": [
        "# グレースケール画像（スパイクノイズが含まれた画像）\n",
        "img3 = cv2.imread('./image1/woman-s.jpg', 2)\n",
        "plt.imshow(img3, cmap = \"gray\", clim=(0, 255))"
      ]
    },
    {
      "cell_type": "markdown",
      "metadata": {
        "colab_type": "text",
        "id": "If796c7mBFAi"
      },
      "source": [
        "## フィルタによる画像の平滑化\n",
        "\n",
        "ここでは，いくつかのフィルタを用いて画像の平滑化を行う．\n",
        "\n",
        "\n",
        "\n",
        "\n",
        "\n"
      ]
    },
    {
      "cell_type": "markdown",
      "metadata": {
        "colab_type": "text",
        "id": "DtmwszGHae4P"
      },
      "source": [
        "### 移動平均フィルタ\n",
        "\n",
        "移動平均フィルタでは．注目画素を中心とする画像の局所領域の平均値を算出し，注目画素の値を置き換えることで，画像の平滑化を行う．\n",
        "\n",
        "まず，移動平均フィルタを計算する際のフィルタ（カーネル）サイズ`kernel_size`を指定し，フィルタ`kernel`を作成する．\n",
        "この時，フィルタの要素の合計が1となるようにフィルタサイズに応じて要素の値を除算する．\n",
        "\n",
        "その後，フィルタ処理後の画像を保存するための配列`img_MA`を準備する．\n",
        "また，カーネルサイズと画像サイズから，フィルタ処理を行う画像の範囲を計算する．\n",
        "\n",
        "フィルタ処理の準備ができた後は，for文を用いて任意の範囲の画素値を合計し，その平均値を計算して，配列`img_MA`の対応する箇所に値を代入することでフィルタ処理を行う．\n",
        "\n",
        "結果より，ぼけた画像が表示され，平滑化の効果が確認できるが，画像の縁にフィルタを適用していない箇所が存在する．\n",
        "これは，縁の部分ではフィルタのサイズが異なるため，計算を行なっていないために生じている．"
      ]
    },
    {
      "cell_type": "code",
      "execution_count": null,
      "metadata": {
        "colab": {},
        "colab_type": "code",
        "id": "raYRS-oJBC-M"
      },
      "outputs": [],
      "source": [
        "# ごま塩ノイズ画像をコピーして，画像の高さ・幅を取得\n",
        "img = img2.copy()\n",
        "height, width = img.shape\n",
        "\n",
        "# フィルタサイズを指定\n",
        "kernel_size = 11\n",
        "r = int((kernel_size - 1) / 2)\n",
        "\n",
        "# フィルタを作成\n",
        "kernel = np.ones([kernel_size, kernel_size], dtype=np.float32) / kernel_size**2\n",
        "\n",
        "# フィルタ処理後の値を保存するための配列を準備\n",
        "img_MA = np.zeros(img.shape, dtype=np.uint8)\n",
        "\n",
        "# カーネルサイズに合わせてフィルタ処理する画像範囲を計算\n",
        "height = height - kernel_size\n",
        "width = width - kernel_size\n",
        "\n",
        "# フィルタ処理\n",
        "for i in range(height + 1):\n",
        "    for j in range(width + 1):\n",
        "        # フィルタ処理を行う範囲の画素値を取得\n",
        "        image_values = img[i:i+kernel_size, j:j+kernel_size]\n",
        "        # 画素値とフィルタを掛け合わせて合計する\n",
        "        filtered_value = np.sum(image_values * kernel)\n",
        "        # フィルタ処理した結果の値を対応箇所（フィルタの中心座標）に代入\n",
        "        img_MA[i+r, j+r] = int(filtered_value)\n",
        "\n",
        "# 結果の表示\n",
        "plt.imshow(img_MA, cmap=\"gray\", clim=(0, 255))"
      ]
    },
    {
      "cell_type": "markdown",
      "metadata": {
        "colab_type": "text",
        "id": "t_80_eJIaiaS"
      },
      "source": [
        "### ガウシアンフィルタ\n",
        "\n",
        "ガウシアンフィルタではガウス分布を用いてフィルタを設計する．\n",
        "以下では，3x3のガウシアンフィルタを用いたフィルタリング処理を行う．\n",
        "\n",
        "まず，3x3のガウシアンフィルタ（`gaussian_kernel`）を作成する．\n",
        "その後，上の移動平均フィルタの場合と同様に，for文を用いて任意の範囲の画素値を合計し，その平均値を計算することでフィルタ処理を行う．"
      ]
    },
    {
      "cell_type": "code",
      "execution_count": null,
      "metadata": {
        "colab": {},
        "colab_type": "code",
        "id": "ifBcKp3ips_p"
      },
      "outputs": [],
      "source": [
        "# ごま塩ノイズ画像をコピーして，画像の高さ・幅を取得\n",
        "img = img2.copy()\n",
        "height, width = img.shape\n",
        "\n",
        "# ガウシアンフィルタの作成\n",
        "kernel_size = 3\n",
        "r = int((kernel_size - 1) / 2)\n",
        "\n",
        "gaussian_kernel = np.array([[1/16, 1/8, 1/16],\n",
        "                            [ 1/8,  1/4, 1/8],\n",
        "                            [1/16, 1/8, 1/16]])\n",
        "\n",
        "# フィルタ処理後の値を保存するための配列を準備\n",
        "img_gaussian = np.zeros(img.shape, dtype=np.uint8)\n",
        "\n",
        "# カーネルサイズに合わせてフィルタ処理する画像範囲を計算\n",
        "height = height - kernel_size\n",
        "width = width - kernel_size\n",
        "\n",
        "# フィルタ処理\n",
        "for i in range(height + 1):\n",
        "    for j in range(width + 1):\n",
        "        # フィルタ処理を行う範囲の画素値を取得\n",
        "        image_values = img[i:i+kernel_size, j:j+kernel_size]\n",
        "        # 画素値とフィルタを掛け合わせて合計する\n",
        "        filtered_value = np.sum(image_values * gaussian_kernel)\n",
        "        # フィルタ処理した結果の値を対応箇所に代入\n",
        "        img_gaussian[i+1, j+1] = int(filtered_value)\n",
        "\n",
        "# 結果の表示\n",
        "plt.imshow(img_gaussian, cmap=\"gray\", clim=(0, 255))"
      ]
    },
    {
      "cell_type": "markdown",
      "metadata": {
        "colab_type": "text",
        "id": "j0OeRXSBalCO"
      },
      "source": [
        "### メディアンフィルタ\n",
        "\n",
        "メディアンフィルタは近傍中の画素値をソーティング（並び替え）し，その中央値を計算するフィルタ処理である．\n",
        "メディアンフィルタは外れ値の影響を受けにくく，スパイクノイズのようなノイズ除去を行うのに有効なフィルタ処理である．\n",
        "\n",
        "まず，メディアンフィルタのサイズを指定する．\n",
        "その後，中央値を取得するための配列のインデックスを計算する．\n",
        "今回は5x5のフィルタサイズを用いるため，25個の画素値を取得してその中央値を計算する．\n",
        "そのため，`median_index`は13となる．\n",
        "\n",
        "フィルタ処理では，上で説明したフィルタ処理と同様にfor文で近傍領域を一つづつ求め，中央値を計算する．"
      ]
    },
    {
      "cell_type": "code",
      "execution_count": null,
      "metadata": {
        "colab": {},
        "colab_type": "code",
        "id": "-qoygXIAqtYA"
      },
      "outputs": [],
      "source": [
        "# スパイクノイズ画像をコピーして，画像の高さ・幅を取得\n",
        "img = img3.copy()\n",
        "height, width = img.shape\n",
        "\n",
        "# フィルタサイズを指定\n",
        "kernel_size = 5\n",
        "r = int((kernel_size - 1) / 2)\n",
        "\n",
        "# 中央値を取得するための配列のインデックスを計算\n",
        "median_index = int((kernel_size**2 - 1) / 2)\n",
        "\n",
        "# フィルタ処理後の値を保存するための配列を準備\n",
        "img_median = np.zeros(img.shape, dtype=np.uint8)\n",
        "\n",
        "# カーネルサイズに合わせてフィルタ処理する画像範囲を計算\n",
        "height = height - kernel_size\n",
        "width = width - kernel_size\n",
        "\n",
        "# フィルタ処理\n",
        "for i in range(height + 1):\n",
        "    for j in range(width + 1):\n",
        "        # フィルタ処理を行う範囲の画素値を取得\n",
        "        image_values = img[i:i+kernel_size, j:j+kernel_size]\n",
        "        # 取得した画素値を昇順にソート\n",
        "        sorted_values = np.sort(image_values.ravel())\n",
        "        # 中央値を対応する箇所に代入\n",
        "        img_median[i+r, j+r] = sorted_values[median_index]\n",
        "\n",
        "# 結果の表示\n",
        "plt.imshow(img3, cmap=\"gray\", clim=(0, 255))\n",
        "plt.title('Original image')\n",
        "plt.show()\n",
        "plt.imshow(img_median, cmap=\"gray\", clim=(0, 255))\n",
        "plt.title('Median filter')\n",
        "plt.show()"
      ]
    },
    {
      "cell_type": "markdown",
      "metadata": {
        "colab_type": "text",
        "id": "5XookcF00svt"
      },
      "source": [
        "### OpenCVを用いたフィルタ処理\n",
        "\n",
        "上記のフィルタ処理は，OpenCVを利用することで次のように処理を行うことができる．\n",
        "\n"
      ]
    },
    {
      "cell_type": "markdown",
      "metadata": {
        "colab_type": "text",
        "id": "mYPWYGdXs5nB"
      },
      "source": [
        "#### filter2Dを用いた方法\n",
        "\n",
        "OpenCVの`filter2D`関数は，自ら作成したフィルタを用いてフィルタ処理を行うための関数である．\n",
        "\n",
        "まず，フィルタをNumpy配列で作成する．\n",
        "その後，作成したフィルタを用いて`filter2D`関数を適用することで，フィルタ処理を行う．\n",
        "第1引数および第3引数はそれぞれ，フィルタ処理を施す画像とフィルタである．\n",
        "第2引数はフィルタ処理を施した後の配列データのビット深度を指定するものであるが，詳細については割愛する．\n",
        "\n",
        "結果をみると，上記と同様のフィルタの効果が得られている．\n",
        "一方で，OpenCVの関数では，画像の縁に処理を行なっていない箇所が存在しないことがわかる．\n",
        "OpenCVの関数では，画像の縁の部分は隣接する画素の結果を利用して埋めているためである．"
      ]
    },
    {
      "cell_type": "code",
      "execution_count": null,
      "metadata": {
        "colab": {},
        "colab_type": "code",
        "id": "AhXgjljoVVBv"
      },
      "outputs": [],
      "source": [
        "# 移動平均フィルタを作成\n",
        "ma_kernel = np.ones((11, 11), dtype=np.float32) / 121\n",
        "\n",
        "# ガウシアンフィルタを作成\n",
        "gaussian_kernel = np.array([[1/16, 1/8, 1/16],\n",
        "                            [ 1/8,  1/4, 1/8],\n",
        "                            [1/16, 1/8, 1/16]])\n",
        "\n",
        "# フィルタ処理\n",
        "image_ma = cv2.filter2D(img2, -1, ma_kernel)\n",
        "image_gaussian = cv2.filter2D(img2, -1, gaussian_kernel)\n",
        "\n",
        "\n",
        "# 画像の表示（移動平均フィルタ）\n",
        "plt.figure(figsize=(12, 5))\n",
        "plt.subplot(121),plt.imshow(img2, cmap=\"gray\", clim=(0, 255)),plt.title('Original')\n",
        "plt.subplot(122),plt.imshow(image_ma, cmap=\"gray\", clim=(0, 255)),plt.title('Average')\n",
        "plt.show()\n",
        "\n",
        "# 画像の表示（ガウシアンフィルタ）\n",
        "plt.figure(figsize=(12, 5))\n",
        "plt.subplot(121),plt.imshow(img2, cmap=\"gray\", clim=(0, 255)),plt.title('Original')\n",
        "plt.subplot(122),plt.imshow(image_gaussian, cmap=\"gray\", clim=(0, 255)),plt.title('Gaussian')\n",
        "plt.show()"
      ]
    },
    {
      "cell_type": "markdown",
      "metadata": {
        "colab_type": "text",
        "id": "NiWBn0nIuoAK"
      },
      "source": [
        "#### ガウシアン・メディアンフィルタ専用の関数\n",
        "\n",
        "OpenCVにはガウシアンフィルタとメディアンフィルタを実行する専用の関数が存在する．\n",
        "\n",
        "`GaussianBlur`はガウシアンフィルタを行うための関数である．\n",
        "第1引数はフィルタ処理を適用する画像，第2引数はガウシアンフィルタのサイズ，第3引数はフィルタの要素を計算する際の標準偏差である．`sigmaX`は0を指定した場合，フィルタサイズから自動的に決定される．\n",
        "\n",
        "\n"
      ]
    },
    {
      "cell_type": "code",
      "execution_count": null,
      "metadata": {
        "colab": {},
        "colab_type": "code",
        "id": "bt9UrDGxuv3c"
      },
      "outputs": [],
      "source": [
        "# ガウシアンフィルタ ######################\n",
        "gaussian1 = cv2.GaussianBlur(img2, ksize=(5, 5), sigmaX=0)\n",
        "gaussian2 = cv2.GaussianBlur(img3, ksize=(5, 5), sigmaX=0)\n",
        "\n",
        "# 画像の表示（ごま塩ノイズ画像）\n",
        "plt.figure(figsize=(12, 5))\n",
        "plt.subplot(121),plt.imshow(img2, cmap=\"gray\", clim=(0, 255)),plt.title('Original')\n",
        "plt.subplot(122),plt.imshow(gaussian1, cmap=\"gray\", clim=(0, 255)),plt.title('Gaussian')\n",
        "plt.show()\n",
        "\n",
        "# 画像の表示（ごま塩ノイズ画像）\n",
        "plt.figure(figsize=(12, 5))\n",
        "plt.subplot(121),plt.imshow(img3, cmap=\"gray\", clim=(0, 255)),plt.title('Original')\n",
        "plt.subplot(122),plt.imshow(gaussian2, cmap=\"gray\", clim=(0, 255)),plt.title('Gaussian')\n",
        "plt.show()"
      ]
    },
    {
      "cell_type": "markdown",
      "metadata": {
        "colab_type": "text",
        "id": "v4BCjeefv9Mc"
      },
      "source": [
        "`medianBlur`はメディアンフィルタを行うための関数である．\n",
        "第1引数はフィルタ処理を適用する画像，第2引数はガウシアンフィルタのサイズである．\n",
        "\n"
      ]
    },
    {
      "cell_type": "code",
      "execution_count": null,
      "metadata": {
        "colab": {},
        "colab_type": "code",
        "id": "MHLP62VUv1PE"
      },
      "outputs": [],
      "source": [
        "# メディアンフィルタ ######################\n",
        "median1 = cv2.medianBlur(img2, 5)\n",
        "median2 = cv2.medianBlur(img3, 5)\n",
        "\n",
        "# 画像の表示（ごま塩ノイズ画像）\n",
        "plt.figure(figsize=(12, 5))\n",
        "plt.subplot(121),plt.imshow(img2, cmap=\"gray\", clim=(0, 255)),plt.title('Original_1')\n",
        "plt.subplot(122),plt.imshow(median1, cmap=\"gray\", clim=(0, 255)),plt.title('Median_1')\n",
        "plt.show()\n",
        "\n",
        "# 画像の表示（ごま塩ノイズ画像）\n",
        "plt.figure(figsize=(12, 5))\n",
        "plt.subplot(121),plt.imshow(img3, cmap=\"gray\", clim=(0, 255)),plt.title('Original_2')\n",
        "plt.subplot(122),plt.imshow(median2, cmap=\"gray\", clim=(0, 255)),plt.title('Median_2')\n",
        "plt.show()"
      ]
    },
    {
      "cell_type": "markdown",
      "metadata": {
        "colab_type": "text",
        "id": "-L-GMAIPNifF"
      },
      "source": [
        "## 画像のエッジ抽出\n",
        "\n",
        "いくつかのフィルタを用いて画像からエッジ抽出を行う．"
      ]
    },
    {
      "cell_type": "markdown",
      "metadata": {
        "colab_type": "text",
        "id": "ch1un5t50NHe"
      },
      "source": [
        "### 微分フィルタ\n",
        "\n",
        "微分フィルタでは画像の微分を計算することでエッジ部分を抽出するフィルタ処理である．\n",
        "\n",
        "ディジタル画像における微分は隣り合う画素の差となる．\n",
        "そのため，微分フィルタでは縦方向，横方向それぞれの隣り合う画素の差を計算することでエッジの抽出を実現する．\n",
        "\n",
        "フィルタ処理によって計算されたエッジの値は画素値の大小関係に応じて，正または負の値を取る．\n",
        "抽出したエッジをみやすくするために，`np.abs`関数でエッジの絶対値をしてから表示を行なっている．"
      ]
    },
    {
      "cell_type": "code",
      "execution_count": null,
      "metadata": {
        "colab": {},
        "colab_type": "code",
        "id": "xvyIHalBN4V7"
      },
      "outputs": [],
      "source": [
        "img = img1.copy()\n",
        "height, width = img.shape\n",
        "\n",
        "height = height - 1\n",
        "width = width - 1\n",
        "\n",
        "img_edge_x = np.zeros(img.shape, dtype=np.float32)\n",
        "img_edge_y = np.zeros(img.shape, dtype=np.float32)\n",
        "\n",
        "for i in range(height):\n",
        "    for j in range(width):\n",
        "        # 横方向の微分\n",
        "        img_edge_x[i, j] = int(img[i][j+1]) - int(img[i][j])\n",
        "        # 縦方向の微分\n",
        "        img_edge_y[i, j] = int(img[i+1][j]) - int(img[i][j])\n",
        "\n",
        "plt.imshow(img, cmap=\"gray\", clim=(0, 255))\n",
        "plt.title(\"Original\")\n",
        "plt.show()\n",
        "plt.imshow(np.abs(img_edge_x), cmap=\"gray\")\n",
        "plt.title(\"horizontal axis edge\")\n",
        "plt.show()\n",
        "plt.imshow(np.abs(img_edge_y), cmap=\"gray\")\n",
        "plt.title(\"vertical axis edge\")\n",
        "plt.show()"
      ]
    },
    {
      "cell_type": "markdown",
      "metadata": {
        "colab_type": "text",
        "id": "1CdhlqIMVQBL"
      },
      "source": [
        "### プリューウィットフィルタ\n",
        "\n",
        "プリューウィットフィルタ (Prewitt filter) は，微分フィルタに平滑化フィルタを掛け合わせたフィルタ処理である．\n",
        "平滑化フィルタを併用することで，ノイズを抑えながらエッジを抽出することができる．\n",
        "\n",
        "以下では，水平・垂直方向のエッジを計算するためのフィルタを用意し，OpenCVの`filter2D`を用いてフィルタ処理を行うことで，エッジの抽出を行う．\n"
      ]
    },
    {
      "cell_type": "code",
      "execution_count": null,
      "metadata": {
        "colab": {},
        "colab_type": "code",
        "id": "R9kQRZ8N3ucp"
      },
      "outputs": [],
      "source": [
        "img = img1.copy()\n",
        "height, width = img.shape\n",
        "\n",
        "prewitt_filter_x = np.array([[-1, 0, 1],\n",
        "                             [-1, 0, 1],\n",
        "                             [-1, 0, 1]])\n",
        "prewitt_filter_y = np.array([[-1, -1, -1],\n",
        "                             [ 0,  0,  0],\n",
        "                             [ 1,  1,  1]])\n",
        "\n",
        "img_prewitt_x = cv2.filter2D(img, cv2.CV_32F, prewitt_filter_x)\n",
        "img_prewitt_y = cv2.filter2D(img, cv2.CV_32F, prewitt_filter_y)\n",
        "\n",
        "plt.imshow(img, cmap=\"gray\", clim=(0, 255))\n",
        "plt.title(\"Original\")\n",
        "plt.show()\n",
        "plt.imshow(np.abs(img_prewitt_x), cmap=\"gray\")\n",
        "plt.title(\"horizontal axis edge\")\n",
        "plt.show()\n",
        "plt.imshow(np.abs(img_prewitt_y), cmap=\"gray\")\n",
        "plt.title(\"vertical axis edge\")\n",
        "plt.show()"
      ]
    },
    {
      "cell_type": "markdown",
      "metadata": {
        "colab_type": "text",
        "id": "5WkBetU03uib"
      },
      "source": [
        "### ソーベルフィルタ\n",
        "\n",
        "ソーベルフィルタ (Sobel filter) は，フィルタの中央に重み付けをしたフィルタである．\n",
        "\n",
        "プリューウィットフィルタと同様に水平・垂直方向のエッジを計算するためのフィルタを用意し．`filter2D`関数を用いてフィルタ処理を行うことで，エッジの抽出を行う．\n",
        "\n",
        "また，OpenCVではソーベルフィルタを計算するための関数が存在しており，`Sobel`関数を使用することで，同様にエッジを抽出することが可能である．\n",
        "ここでは，`Sobel`関数の詳細については割愛する．"
      ]
    },
    {
      "cell_type": "code",
      "execution_count": null,
      "metadata": {
        "colab": {},
        "colab_type": "code",
        "id": "HTeCFvVNU71v"
      },
      "outputs": [],
      "source": [
        "img = img1.copy()\n",
        "height, width = img.shape\n",
        "\n",
        "sobel_filter_x = np.array([[-1, 0, 1],\n",
        "                           [-2, 0, 2],\n",
        "                           [-1, 0, 1]])\n",
        "sobel_filter_y = np.array([[-1, -2, -1],\n",
        "                           [ 0,  0,  0],\n",
        "                           [ 1,  2,  1]]) \n",
        "\n",
        "img_sobel_x = cv2.filter2D(img, cv2.CV_32F, sobel_filter_x)\n",
        "img_sobel_y = cv2.filter2D(img, cv2.CV_32F, sobel_filter_y)\n",
        "\n",
        "plt.imshow(img, cmap=\"gray\", clim=(0, 255))\n",
        "plt.title(\"Original\")\n",
        "plt.show()\n",
        "plt.imshow(np.abs(img_sobel_x), cmap=\"gray\")\n",
        "plt.title(\"horizontal axis edge\")\n",
        "plt.show()\n",
        "plt.imshow(np.abs(img_sobel_y), cmap=\"gray\")\n",
        "plt.title(\"vertical axis edge\")\n",
        "plt.show()\n",
        "\n",
        "# OpenCVの関数を用いた方法\n",
        "img_sobel = cv2.Sobel(img1, cv2.CV_32F, 1, 0, ksize=3)\n",
        "plt.imshow(np.abs(img_sobel), cmap=\"gray\")\n",
        "plt.show()"
      ]
    },
    {
      "cell_type": "markdown",
      "metadata": {
        "colab_type": "text",
        "id": "OFhRThXZ7CYr"
      },
      "source": [
        "### ラプラシアンフィルタ\n",
        "\n",
        "ラプラシアンフィルタは前述の1階微分フィルタとは異なり，画像の2階微分を計算するためのフィルタ処理である．\n",
        "\n",
        "以下では，水平・垂直方向の2階微分を同時に計算するためのフィルタ（`laplacian_filter`）を用意し．`filter2D`関数を適用することで，画像のエッジを抽出する．\n",
        "\n",
        "ソーベルフィルタの場合と同様に，OpenCVではラプラシアンフィルタを計算するための関数が存在しており，`Laplacian`関数を使用することで，同様にエッジを抽出することが可能である．\n",
        "ここでは，`Laplacian`関数の詳細については割愛する．"
      ]
    },
    {
      "cell_type": "code",
      "execution_count": null,
      "metadata": {
        "colab": {},
        "colab_type": "code",
        "id": "qwLIZMhYVhLU"
      },
      "outputs": [],
      "source": [
        "img = img1.copy()\n",
        "height, width = img.shape\n",
        "\n",
        "laplacian_filter = np.array([[0,  1, 0],\n",
        "                             [1, -4, 1],\n",
        "                             [0,  1, 0]])\n",
        "\n",
        "img_lap = cv2.filter2D(img, cv2.CV_32F, laplacian_filter)\n",
        "\n",
        "plt.imshow(img_lap, cmap=\"gray\")\n",
        "plt.title(\"laplacian\")\n",
        "plt.show()\n",
        "\n",
        "# OpenCVの関数を用いた方法\n",
        "img_lap2 = cv2.Laplacian(img, cv2.CV_32F,ksize=3)\n",
        "plt.imshow(img_lap2, cmap=\"gray\")\n",
        "plt.title(\"laplacian (opencv)\")\n",
        "plt.show()"
      ]
    },
    {
      "cell_type": "markdown",
      "metadata": {
        "colab_type": "text",
        "id": "mQFrbQtlOaOI"
      },
      "source": [
        "### 鮮鋭化\n",
        "\n",
        "上のラプラシアンフィルタで抽出したエッジを用いて，画像の先鋭化を行う．\n",
        "\n",
        "先鋭化したい画像の画素値から，ラプラシアンフィルタで抽出したエッジを減算することで，元の画像の濃淡を残したままエッジ部分を強調する．\n"
      ]
    },
    {
      "cell_type": "code",
      "execution_count": null,
      "metadata": {
        "colab": {},
        "colab_type": "code",
        "id": "ySXobB2EOZSO"
      },
      "outputs": [],
      "source": [
        "img = img1.copy()\n",
        "img = img.astype(np.float32)\n",
        "\n",
        "img_sharpen = img - img_lap\n",
        "\n",
        "plt.figure(figsize=(10, 8))\n",
        "plt.imshow(img, cmap=\"gray\", clim=(0, 255))\n",
        "plt.title(\"Original\")\n",
        "plt.show()\n",
        "plt.figure(figsize=(10, 8))\n",
        "plt.imshow(img_sharpen, cmap=\"gray\", clim=(0, 255))\n",
        "plt.title(\"Sharpen\")\n",
        "plt.show()"
      ]
    },
    {
      "cell_type": "markdown",
      "metadata": {
        "colab_type": "text",
        "id": "KcmBYMIe2f5X"
      },
      "source": [
        "より詳しく画素値の変化を確認するために．\n",
        "画像のとある1行の画素値をグラフにプロットする．\n",
        "\n",
        "以下では，350行目の画素値をプロットしている．\n",
        "この結果より，鮮鋭化により山や谷のような画素値の変化が大きな箇所の変化がより強調されていることが確認できる．"
      ]
    },
    {
      "cell_type": "code",
      "execution_count": null,
      "metadata": {
        "colab": {},
        "colab_type": "code",
        "id": "zqvKDlf6XZUK"
      },
      "outputs": [],
      "source": [
        "y = 350\n",
        "\n",
        "plt.plot(img_sharpen[y], label=\"sharpen\")\n",
        "plt.plot(img[y], label=\"original\")\n",
        "plt.legend()\n",
        "plt.show()"
      ]
    },
    {
      "cell_type": "markdown",
      "metadata": {
        "colab_type": "text",
        "id": "Ej5lAak9Q_AQ"
      },
      "source": [
        "## 課題\n",
        "\n",
        "* 平滑化について，プログラムのkernelの値を変更すると画像はどのようになるか確認すること\n",
        "* ノイズを付与された画像からノイズを除去するには，どのフィルタを使うと効果的であるか，理由ととも考察すること\n",
        "\n"
      ]
    }
  ],
  "metadata": {
    "colab": {
      "collapsed_sections": [],
      "include_colab_link": true,
      "name": "02.spatial_filtering",
      "provenance": [],
      "toc_visible": true
    },
    "kernelspec": {
      "display_name": "Python 3",
      "name": "python3"
    }
  },
  "nbformat": 4,
  "nbformat_minor": 0
}
