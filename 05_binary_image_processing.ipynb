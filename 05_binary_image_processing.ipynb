{
  "cells": [
    {
      "cell_type": "markdown",
      "metadata": {
        "colab_type": "text",
        "id": "view-in-github"
      },
      "source": [
        "<a href=\"https://colab.research.google.com/github/machine-perception-robotics-group/ImageProcessingGoogleColabNotebooks/blob/master/05_binary_image_processing.ipynb\" target=\"_parent\"><img src=\"https://colab.research.google.com/assets/colab-badge.svg\" alt=\"Open In Colab\"/></a>"
      ]
    },
    {
      "cell_type": "markdown",
      "metadata": {
        "colab_type": "text",
        "id": "VH7DMSXUpe5L"
      },
      "source": [
        "# 05. 二値化，二値画像処理\n",
        "\n",
        "講義で説明する画像処理の方法について，google colaboratoryを利用して演習する．\n",
        "google colaboratoryは，クラウドで実行する Jupyter ノートブック環境である.\n",
        "google coraboratoryについては，[ここ](https://www.tdi.co.jp/miso/google-colaboratory-gpu)や[ここ](https://www.codexa.net/how-to-use-google-colaboratory/)を参考にすること．\n",
        "\n",
        "下記のプログラムを実行すると，画像の二値化や二値化した画像の処理を行う．"
      ]
    },
    {
      "cell_type": "markdown",
      "metadata": {
        "colab_type": "text",
        "id": "7Bbaet2C4U7F"
      },
      "source": [
        "## 準備\n",
        "プログラムの動作に必要なデータをダウンロードし，zipファイルを解凍する．"
      ]
    },
    {
      "cell_type": "code",
      "execution_count": null,
      "metadata": {
        "colab": {},
        "colab_type": "code",
        "id": "3NYtuZtndzQ4"
      },
      "outputs": [],
      "source": [
        "!wget -q https://raw.githubusercontent.com/machine-perception-robotics-group/ImageProcessingGoogleColabNotebooks/master/image1.zip\n",
        "!unzip -q image1.zip\n",
        "!ls\n",
        "!ls ./image1/"
      ]
    },
    {
      "cell_type": "markdown",
      "metadata": {
        "colab_type": "text",
        "id": "mkwrQ8dwa2sZ"
      },
      "source": [
        "## 画像の読み込みと表示\n",
        "必要なパッケージをインポートし，画像を表示する．"
      ]
    },
    {
      "cell_type": "code",
      "execution_count": null,
      "metadata": {
        "colab": {},
        "colab_type": "code",
        "id": "WVhRoQpaltse"
      },
      "outputs": [],
      "source": [
        "import cv2\n",
        "import numpy as np\n",
        "from matplotlib import pyplot as plt\n",
        "\n",
        "# カラー画像の読み込み\n",
        "img_src = cv2.imread('./image1/woman-color.jpg')\n",
        "img_rgb = cv2.cvtColor(img_src, cv2.COLOR_BGR2RGB)\n",
        "# グレースケール画像の読み込み\n",
        "img_gray = cv2.cvtColor(img_src, cv2.COLOR_BGR2GRAY)\n",
        "\n",
        "# 画像を表示\n",
        "plt.imshow(img_rgb)\n",
        "plt.title(\"color image\")\n",
        "plt.show()\n",
        "\n",
        "plt.imshow(img_gray, cmap=\"gray\", clim=(0, 255))\n",
        "plt.title(\"grayscale image\")\n",
        "plt.show()"
      ]
    },
    {
      "cell_type": "markdown",
      "metadata": {
        "colab_type": "text",
        "id": "-b2D8AAK09AF"
      },
      "source": [
        "## グレースケール変換\n",
        "\n",
        "ここでは，複数の方法でカラー画像をグレースケール画像へと変換する．\n",
        "\n",
        "1. 彩度を0にする方法では，各チャンネルの値の最大値と最小値の平均を求めることでグレースケール変換を行う．\n",
        "2. RGBの平均値を用いることでグレースケール変換を行う．\n",
        "3. YUVを用いる方法では，$0.299 \\times R + 0.587 \\times G + 0.114 \\times B$のように値を計算することで，グレースケール変換を行う．\n",
        "\n",
        "変換結果より，用いる変換方法によりグレースケール画像の明るさ等が異なることがわかる．"
      ]
    },
    {
      "cell_type": "code",
      "execution_count": null,
      "metadata": {
        "colab": {},
        "colab_type": "code",
        "id": "595eTVu4vq6Z"
      },
      "outputs": [],
      "source": [
        "img = img_rgb.copy()\n",
        "\n",
        "# 高さ・幅・チャンネル数の取得\n",
        "height, width, channel = img.shape\n",
        "\n",
        "# 要素が全て0の3次元配列を作成\n",
        "image_array1 = np.zeros((height, width), dtype=np.uint8)\n",
        "image_array2 = np.zeros((height, width), dtype=np.uint8)\n",
        "image_array3 = np.zeros((height, width), dtype=np.uint8)\n",
        "\n",
        "# RGBをソート\n",
        "img_sort = np.sort(img, axis=2)\n",
        "\n",
        "# 配列の各要素に値（画素値）を代入\n",
        "for h in range(0, height):\n",
        "    for w in range(0, width):\n",
        "      # 1. 彩度0\n",
        "      image_array1[h, w] = (img_sort[h, w, 0] * 1 + img_sort[h, w, 2] * 1) / 2.0\n",
        "      # 2. RGBの平均値\n",
        "      image_array2[h, w] = (img[h, w, 0] * 1 + img[h, w, 1] * 1 + img[h, w, 2] * 1) / 3\n",
        "      # 3. YUV(0.299*R + 0.587*G + 0.114*B)色ごとの明るさの感じ方の違いを反映\n",
        "      image_array3[h, w] = (img[h, w, 0] * 0.299) + (img[h, w, 1] * 0.587) + (img[h, w, 2] * 0.114) \n",
        "\n",
        "# 画像の表示\n",
        "plt.imshow(image_array1, cmap=\"gray\", clim=(0, 255))\n",
        "plt.title(\"saturation=0\")\n",
        "plt.show()\n",
        "\n",
        "plt.imshow(image_array2, cmap=\"gray\", clim=(0, 255))\n",
        "plt.title(\"average\")\n",
        "plt.show()\n",
        "\n",
        "plt.imshow(image_array3, cmap=\"gray\", clim=(0, 255))\n",
        "plt.title(\"YUV\")\n",
        "plt.show()"
      ]
    },
    {
      "cell_type": "markdown",
      "metadata": {
        "colab_type": "text",
        "id": "P8K-MrQ_4h7U"
      },
      "source": [
        "## 二値化\n",
        "\n",
        "次に，画像の二値化を行う．\n",
        "画像の二値化には主に次のような方法がある．\n",
        "* 手動で閾値を選択する方法\n",
        "* pタイル法\n",
        "* モード法\n",
        "* 判別分析法\n",
        "\n",
        "以下では，それぞれの方法を用いて画像の二値化を行う．\n",
        "\n"
      ]
    },
    {
      "cell_type": "markdown",
      "metadata": {
        "colab_type": "text",
        "id": "-_iFzsPnyqhv"
      },
      "source": [
        "### 手動で閾値を選択する方法\n",
        "\n",
        "この方法では，閾値を手動で設定し．二値化を行う．\n",
        "画素値が閾値未満の場合には0に閾値以上の場合には255に変更することで二値化を行う．"
      ]
    },
    {
      "cell_type": "code",
      "execution_count": null,
      "metadata": {
        "colab": {},
        "colab_type": "code",
        "id": "YumdX1nZyqmU"
      },
      "outputs": [],
      "source": [
        "#上で読み込んだ低コントラストグレースケール画像をコピー\n",
        "img = img_gray.copy()\n",
        "\n",
        "# 高さ・幅の取得\n",
        "height, width = img.shape\n",
        "\n",
        "# 閾値の設定\n",
        "thresh = 128\n",
        "\n",
        "for i in range(height):\n",
        "    for j in range(width):\n",
        "        if img[i][j] < thresh:  # 画素値が閾値未満の場合\n",
        "            img[i][j] = 0\n",
        "        else:                   # それ以外\n",
        "            img[i][j] = 255\n",
        "\n",
        "# 2値化した画像の表示\n",
        "img_bin_manual = img\n",
        "plt.imshow(img_bin_manual, cmap=\"gray\", clim=(0, 255))"
      ]
    },
    {
      "cell_type": "markdown",
      "metadata": {
        "colab_type": "text",
        "id": "E1GjtM3qy7pJ"
      },
      "source": [
        "### pタイル法\n",
        "\n",
        "\n",
        "pタイル法では，画素値の低いところから頻度値を計算し，予測された画素数を超えた時の画素値をしきい値として決定する．\n",
        "\n",
        "まず，画像の濃淡ヒストグラムを計算し，二値化する領域の割合 (`ratio`) を決定する．\n",
        "その後，画像サイズと比率から，予測される画素数`th`を計算する．\n",
        "\n",
        "その後，ヒストグラムにカウントされた画素数を一つづつfor文を用いて加算していき，\n",
        "加算した画素数が予測される画素数`th`を超えた時の画素値を閾値`threshold`として保存する．\n",
        "\n",
        "最後に得られた`threshold`を用いて画像を二値化する．\n",
        "\n"
      ]
    },
    {
      "cell_type": "code",
      "execution_count": null,
      "metadata": {
        "colab": {},
        "colab_type": "code",
        "id": "Oll7p8uSarH2"
      },
      "outputs": [],
      "source": [
        "#上で読み込んだ低コントラストグレースケール画像をコピー\n",
        "img = img_gray.copy()\n",
        "\n",
        "# 高さ・幅の取得\n",
        "height, width = img.shape\n",
        "\n",
        "# 画像の画素数を計算\n",
        "imgsize = height * width\n",
        "\n",
        "# ヒストグラムを計算するための，配列を用意\n",
        "histogram = np.arange(256)\n",
        "\n",
        "# for文で1つずつ画素値にアクセスする\n",
        "for h in range(height):\n",
        "  for w in range(width):\n",
        "    # 1画素ずつ画素値を見ながら該当する要素（bin）に投票\n",
        "    histogram[img[h][w]] += 1\n",
        "\n",
        "# 領域の割合（比率）を決定\n",
        "ratio = 0.4\n",
        "\n",
        "th = height * width * ratio\n",
        "th_sum = 0\n",
        "for ti in range(256):\n",
        "  th_sum += histogram[ti]\n",
        "  if th_sum > th:\n",
        "    threshold = ti\n",
        "    break\n",
        "\n",
        "print(\"THRESHOLD =\", threshold)\n",
        "\n",
        "# 画像の二値化と表示\n",
        "img_bin_ptile = img.copy()\n",
        "for i in range(height):\n",
        "  for j in range(width):\n",
        "    # 閾値未満なら\n",
        "    if img_bin_ptile[i][j] < threshold:\n",
        "      img_bin_ptile[i][j] = 0\n",
        "    # それ以外\n",
        "    else:\n",
        "      img_bin_ptile[i][j] = 255\n",
        "\n",
        "plt.imshow(img_bin_ptile, cmap=\"gray\", clim=(0, 255))\n",
        "plt.show()"
      ]
    },
    {
      "cell_type": "markdown",
      "metadata": {
        "colab_type": "text",
        "id": "Pr0lw4td1uCj"
      },
      "source": [
        "### モード法\n",
        "\n",
        "モード法は濃淡ヒストグラムの谷となる画素値を閾値として決定する方法である．\n",
        "\n",
        "まず，濃淡ヒストグラムの作成を行う．\n",
        "その後，ヒストグラムの平滑化を行う．\n",
        "ヒストグラムの平滑化は02「空間フィルタリング」で用いた移動平均フィルタと同様の処理をヒストグラム上で行う．\n",
        "\n",
        "次に，平坦化したヒストグラムを用いて，山（極大値）を探索する．\n",
        "探索では，for文でヒストグラムの値を順番に確認していく．\n",
        "その際，`i`番目のbinの値 < `i+1`番目のbinの値 > `i+2`番目のbinの値となる場合に山と判断し，山に該当するbinの値を記録しておく．\n",
        "\n",
        "その後，もっとも値の大きな2つの山を選択し，その山の間の値がもっとも小さいbinを谷（極小値）として選択し，この画素値を閾値とする．\n",
        "\n",
        "元画像の濃淡ヒストグラムと平滑化したヒストグラムを表示する．\n",
        "平滑化したヒストグラムには，探索によって発見された山と谷（閾値）をプロットする．\n",
        "\n",
        "この結果より，平滑化によりヒストグラムの細かな起伏がなくなり，大きな山や谷を探索できていることがわかる．"
      ]
    },
    {
      "cell_type": "code",
      "execution_count": null,
      "metadata": {
        "colab": {},
        "colab_type": "code",
        "id": "K9-I9Fd11uJR"
      },
      "outputs": [],
      "source": [
        "#上で読み込んだ低コントラストグレースケール画像をコピー\n",
        "img = img_gray.copy()\n",
        "\n",
        "# 高さ・幅の取得\n",
        "height, width = img.shape\n",
        "\n",
        "# 画像の画素数を計算\n",
        "imgsize = height * width\n",
        "\n",
        "# ヒストグラムの計算\n",
        "histogram = np.arange(256)\n",
        "for h in range(height):\n",
        "  for w in range(width):\n",
        "    # 1画素ずつ画素値を見ながら該当する要素（bin）に投票\n",
        "    histogram[img[h][w]] += 1\n",
        "\n",
        "# ヒストグラムの平滑化\n",
        "hist_sm = histogram.copy()\n",
        "for i in range(256 - 4):\n",
        "  hist_sm[i] = np.mean(histogram[i:i+5])\n",
        "\n",
        "# 平滑化したヒストグラムを用いて山（極大値）を探索\n",
        "maxima_list = np.zeros(256)\n",
        "for i in range(256 - 3):\n",
        "  if hist_sm[i] < hist_sm[i+1] and hist_sm[i+2] < hist_sm[i+1]:\n",
        "    maxima_list[i+1] = hist_sm[i+1]\n",
        "\n",
        "# 値の高い極大値２つを選択する\n",
        "maxima_indices = np.argsort(maxima_list)\n",
        "peak = np.sort(maxima_indices[-2:])\n",
        "print(\"peak:\", peak)\n",
        "\n",
        "# 極大値の間でもっとも頻度が低い画素値（閾値）を求める\n",
        "minima = [-1, 20000]\n",
        "for i in range(peak[0], peak[1]):\n",
        "  if hist_sm[i] < minima[1]:\n",
        "    minima = [i, hist_sm[i]]\n",
        "\n",
        "threshold = minima[0]\n",
        "print(\"minima (threshold):\", threshold)\n",
        "\n",
        "# 平滑化したヒストグラムの表示\n",
        "plt.figure(figsize=(14, 4))\n",
        "plt.subplot(121)\n",
        "plt.bar(range(256), histogram, width=1.0)\n",
        "plt.title(\"original histogram\")\n",
        "plt.subplot(122)\n",
        "plt.bar(range(256), hist_sm, width=1.0)\n",
        "plt.title(\"smoothed histogram\")\n",
        "plt.axvline(peak[0], color=\"orange\", label='peak1')\n",
        "plt.axvline(peak[1], color=\"red\", label='peak2')\n",
        "plt.axvline(threshold, color=\"green\", label='threshold')\n",
        "plt.legend()\n",
        "plt.show()"
      ]
    },
    {
      "cell_type": "markdown",
      "metadata": {
        "colab_type": "text",
        "id": "QPKxROro-bcI"
      },
      "source": [
        "上のモード法で求めた閾値を用いて，画像を二値化する．"
      ]
    },
    {
      "cell_type": "code",
      "execution_count": null,
      "metadata": {
        "colab": {},
        "colab_type": "code",
        "id": "yVAbxQDo-UzP"
      },
      "outputs": [],
      "source": [
        "img_bin_mode = img.copy()\n",
        "\n",
        "for i in range(height):\n",
        "  for j in range(width):\n",
        "    # 閾値未満なら\n",
        "    if img_bin_mode[i][j] < threshold:\n",
        "      img_bin_mode[i][j] = 0\n",
        "    # それ以外\n",
        "    else:\n",
        "      img_bin_mode[i][j] = 255\n",
        "\n",
        "plt.imshow(img_bin_mode, cmap=\"gray\", clim=(0, 255))\n",
        "plt.show()"
      ]
    },
    {
      "cell_type": "markdown",
      "metadata": {
        "colab_type": "text",
        "id": "u1pTOCsA15Kd"
      },
      "source": [
        "### 判別分析法\n",
        "\n",
        "判別分析法では，閾値で全景と背景を分割し，2つのクラス間の分離度が最大となる画素値を閾値とする方法である．\n",
        "\n",
        "まず，濃淡ヒストグラムを作成する．\n",
        "\n",
        "次に，探索中にもっとも良かった閾値と分離度を保存するためのリスト`s_max`を用意する．\n",
        "\n",
        "その後，for文を用いて，閾値を変化させ，クラスの分離度を計算していき，もっとも分離度が高い閾値を探索する．\n"
      ]
    },
    {
      "cell_type": "code",
      "execution_count": null,
      "metadata": {
        "colab": {},
        "colab_type": "code",
        "id": "7aOMuOtP15PX"
      },
      "outputs": [],
      "source": [
        "#上で読み込んだ低コントラストグレースケール画像をコピーし高さ・幅を取得\n",
        "img = img_gray.copy()\n",
        "height, width = img.shape\n",
        "\n",
        "# 画像の画素数を計算\n",
        "imgsize = height * width\n",
        "\n",
        "# ヒストグラムの計算\n",
        "histgram = np.arange(256)\n",
        "for h in range(height):\n",
        "  for w in range(width):\n",
        "    histgram[img[h][w]] += 1\n",
        "\n",
        "# 閾値と分離度を保存するためのリストを用意\n",
        "s_max = [0, -10]\n",
        "\n",
        "for th in range(1, 256 - 1):\n",
        "  # クラス1とクラス2の画素数を計算\n",
        "  n1 = sum(histgram[:th])\n",
        "  n2 = sum(histgram[th:])\n",
        "\n",
        "  # クラス1とクラス2の画素値の平均を計算\n",
        "  if n1 == 0:\n",
        "    mu1 = 0\n",
        "  else:\n",
        "    mu1 = sum([i * histgram[i] for i in range(0, th)]) / n1   \n",
        "  if n2 == 0:\n",
        "    mu2 = 0\n",
        "  else:\n",
        "    mu2 = sum([i * histgram[i] for i in range(th, 256)]) / n2\n",
        "\n",
        "  # クラス1とクラス2の分散を計算\n",
        "  if n1 == 0:\n",
        "    sigma1 = 0\n",
        "  else:\n",
        "    sigma1 = sum([(i - mu1)**2 * histgram[i] for i in range(0, th)]) / n1\n",
        "  if n2 == 0:\n",
        "    sigma2 = 0\n",
        "  else:\n",
        "    sigma2 = sum([(i - mu2)**2 * histgram[i] for i in range(th, 256)]) / n2\n",
        "\n",
        "  # クラス間分散\n",
        "  s_b = (n1 * n2 * (mu1 - mu2) ** 2) / (n1 + n2)\n",
        "\n",
        "  # クラス内分散\n",
        "  s_w = (n1 * sigma1 + n2 * sigma2) / (n1 + n2)\n",
        "\n",
        "  # クラス1とクラス2の間の分散（クラス間分散）の分子を計算\n",
        "  s = n1 * n2 * (mu1 - mu2) ** 2\n",
        "  # s = s_b / s_w\n",
        "\n",
        "  # クラス間分散の分子が大きい時，クラス間分散の分子と閾値を記録\n",
        "  if s > s_max[1]:\n",
        "    s_max = [th, s]\n",
        "    \n",
        "# クラス間分散が最大のときの閾値を取得\n",
        "threshold = s_max[0]\n",
        "print(\"THRESHOLD =\", threshold)\n",
        "\n",
        "# 算出した閾値で二値化処理\n",
        "img_bin_da = img.copy()\n",
        "img_bin_da[img_bin_da < threshold] = 0\n",
        "img_bin_da[img_bin_da >= threshold] = 255\n",
        "\n",
        "# 表示\n",
        "plt.imshow(img_bin_da, cmap=\"gray\", clim=(0, 255))\n",
        "plt.show()"
      ]
    },
    {
      "cell_type": "markdown",
      "metadata": {
        "colab_type": "text",
        "id": "i09p4jzh6NLm"
      },
      "source": [
        "## 二値画像処理\n",
        "\n",
        "次に，二値化した画像を対象とする画像処理を行う．\n",
        "\n",
        "まず，二値画像処理に使用する二値画像を用意する．\n",
        "今回は，OpenCVの`threshold`関数を用いて判別分析法により二値画像を用意する．"
      ]
    },
    {
      "cell_type": "code",
      "execution_count": null,
      "metadata": {
        "colab": {},
        "colab_type": "code",
        "id": "Kqld3c3T_Rc5"
      },
      "outputs": [],
      "source": [
        "img = img_gray.copy()\n",
        "th, img_bin = cv2.threshold(img, 0, 255, cv2.THRESH_OTSU)\n",
        "print(\"threshold:\", th)\n",
        "\n",
        "plt.imshow(img_bin, cmap=\"gray\", clim=(0, 255))\n",
        "plt.show()"
      ]
    },
    {
      "cell_type": "markdown",
      "metadata": {
        "colab_type": "text",
        "id": "ya4jXEFtBSaA"
      },
      "source": [
        "### 収縮・膨張処理\n",
        "\n",
        "収縮・膨張処理は二値画像のノイズ除去等に使用される処理である．"
      ]
    },
    {
      "cell_type": "markdown",
      "metadata": {
        "colab_type": "text",
        "id": "mud94TOd_DZQ"
      },
      "source": [
        "#### 収縮 (erosion)\n",
        "\n",
        "背景または穴に接する対象画素のひとまわりを剥ぎ取る処理"
      ]
    },
    {
      "cell_type": "code",
      "execution_count": null,
      "metadata": {
        "colab": {},
        "colab_type": "code",
        "id": "rgLL0rs87e2r"
      },
      "outputs": [],
      "source": [
        "img = img_bin.copy()\n",
        "kernel = np.ones((5, 5), np.uint8)\n",
        "erosion = cv2.erode(img, kernel, iterations=1)\n",
        "\n",
        "plt.imshow(erosion, cmap=\"gray\", clim=(0, 255))"
      ]
    },
    {
      "cell_type": "markdown",
      "metadata": {
        "colab_type": "text",
        "id": "w9F-39FBBbxN"
      },
      "source": [
        "#### 膨張 (dilation)\n",
        "\n",
        "背景または穴に接する対象画素のひとまわりを加える処理"
      ]
    },
    {
      "cell_type": "code",
      "execution_count": null,
      "metadata": {
        "colab": {},
        "colab_type": "code",
        "id": "JSGJ1j6TmvVy"
      },
      "outputs": [],
      "source": [
        "img = img_bin.copy()\n",
        "kernel = np.ones((5, 5), np.uint8)\n",
        "dilation = cv2.dilate(img, kernel, iterations=1)\n",
        "\n",
        "plt.imshow(dilation, cmap=\"gray\", clim=(0, 255))"
      ]
    },
    {
      "cell_type": "markdown",
      "metadata": {
        "colab_type": "text",
        "id": "Jr9-kZrxBmpJ"
      },
      "source": [
        "#### オープニング (opening)\n",
        "\n",
        "同じ回数だけ**収縮**して**膨張**する処理 "
      ]
    },
    {
      "cell_type": "code",
      "execution_count": null,
      "metadata": {
        "colab": {},
        "colab_type": "code",
        "id": "OBqBujKum4Ib"
      },
      "outputs": [],
      "source": [
        "img = img_bin.copy()\n",
        "opening = cv2.morphologyEx(img, cv2.MORPH_OPEN, kernel)\n",
        "\n",
        "plt.imshow(opening, cmap=\"gray\", clim=(0, 255))"
      ]
    },
    {
      "cell_type": "markdown",
      "metadata": {
        "colab_type": "text",
        "id": "qu6IK5ERBjHo"
      },
      "source": [
        "#### クロージング (closing)\n",
        "\n",
        "同じ回数だけ**膨張**して**収縮**する処理"
      ]
    },
    {
      "cell_type": "code",
      "execution_count": null,
      "metadata": {
        "colab": {},
        "colab_type": "code",
        "id": "3lg2RLVpm8X1"
      },
      "outputs": [],
      "source": [
        "img = img_bin.copy()\n",
        "closing = cv2.morphologyEx(img, cv2.MORPH_CLOSE, kernel)\n",
        "\n",
        "plt.imshow(closing, cmap=\"gray\", clim=(0, 255))"
      ]
    },
    {
      "cell_type": "markdown",
      "metadata": {
        "colab_type": "text",
        "id": "QIXbERc4CtZ5"
      },
      "source": [
        "### ラベリング\n",
        "\n",
        "ラベリングは同じ連結成分を構成する画素に同じ番号を付与する処理である．\n",
        "\n",
        "まず，各画素のラベルを保存するための配列`label`を用意する．\n",
        "次に，for文を用いて1画素ずつラベルを割り当てていく．\n",
        "注目画素が背景（白画素）の場合は，注目画素ではないため処理をスキップする．\n",
        "注目画素の場合は，以下の手順でラベルをつける\n",
        "\n",
        "1. 注目画素の上の画素がラベルを持つとき，そのラベルを注目画素に付与\n",
        "\n",
        "  * 注目画素の左の画素がラベルを持ち，注目画素のラベルと異なるとき，左画素のラベルと同一の画素のラベルを注目画素のラベルに置き換える\n",
        "  （ルックアップテーブルに保存し，あとでラベルを統合する方法もある）\n",
        "\n",
        "3. 注目画素の上の画素が白画素で，左の画素がラベルを持つとき，そのラベルを注目画素に付与\n",
        "4. 注目画素の上の左も白画素のとき，新しいラベルを注目画素に付与"
      ]
    },
    {
      "cell_type": "code",
      "execution_count": null,
      "metadata": {
        "colab": {},
        "colab_type": "code",
        "id": "akOxrBZ61fD4"
      },
      "outputs": [],
      "source": [
        "img = closing.copy()\n",
        "\n",
        "label = np.zeros(img.shape, dtype=np.int32)\n",
        "\n",
        "label_counter = 1\n",
        "for h in range(label.shape[0]):\n",
        "  for w in range(label.shape[1]):\n",
        "    if img[h, w] == 255:\n",
        "      continue\n",
        "    \n",
        "    # 2-1. \n",
        "    if label[h-1, w] != 0:\n",
        "      label[h, w] = label[h-1, w]\n",
        "      # 2-2.\n",
        "      if label[h, w-1] != 0 and label[h, w-1] != label[h, w]:\n",
        "        label[label == label[h, w-1]] = label[h, w]\n",
        "      continue\n",
        "\n",
        "    # 3.\n",
        "    if label[h-1, w] == 0 and label[h, w-1] != 0:\n",
        "      label[h, w] = label[h, w-1]\n",
        "      continue\n",
        "\n",
        "    # 4.\n",
        "    if label[h-1, w] == 0 and label[h, w-1] == 0:\n",
        "      label[h, w] = label_counter\n",
        "      label_counter += 1\n",
        "      continue"
      ]
    },
    {
      "cell_type": "markdown",
      "metadata": {
        "colab_type": "text",
        "id": "Mhy6kbqMGjvF"
      },
      "source": [
        "上のラベルの割り当てによって得られた結果を表示する．\n",
        "Numpyの`unique`関数で配列内の要素の値の種類（ラベル）を取り出す．\n",
        "\n",
        "その後，各ラベルにランダムに色を決定し，対応する画素に色付けをして表示する．\n",
        "（色の区別がわかりにくい場合は，何度か実行すること）\n",
        "\n",
        "この結果より，連結した領域をひとまとまりとしてラベルづけされていることがわかる．"
      ]
    },
    {
      "cell_type": "code",
      "execution_count": null,
      "metadata": {
        "colab": {},
        "colab_type": "code",
        "id": "nLkei7--3tfN"
      },
      "outputs": [],
      "source": [
        "import random\n",
        "\n",
        "labels = np.unique(label)\n",
        "\n",
        "img_segment = np.zeros([label.shape[0], label.shape[1], 3], dtype=np.uint8)\n",
        "\n",
        "for l in labels:\n",
        "  if l != 0:\n",
        "    color = (random.randint(50, 255), random.randint(50, 255), random.randint(50, 255))\n",
        "    img_segment[label == l] = color\n",
        "\n",
        "plt.figure(figsize=(16, 12))\n",
        "plt.imshow(img_segment)\n",
        "plt.show()"
      ]
    },
    {
      "cell_type": "markdown",
      "metadata": {
        "colab_type": "text",
        "id": "E8niDcU-uT27"
      },
      "source": [
        "## 課題\n",
        "\n",
        "* グレースケール変換時のRGBの比率を変更して，変換結果を確認すること\n",
        "* pタイル法の比率を変更して，適切な比率を確認すること\n",
        "* 縮小・膨張処理のkernelを変更して，変化を確認すること"
      ]
    }
  ],
  "metadata": {
    "colab": {
      "collapsed_sections": [],
      "include_colab_link": true,
      "name": "05_binary_image_processing",
      "provenance": [],
      "toc_visible": true
    },
    "kernelspec": {
      "display_name": "Python 3",
      "name": "python3"
    }
  },
  "nbformat": 4,
  "nbformat_minor": 0
}
