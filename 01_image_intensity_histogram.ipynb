{
  "nbformat": 4,
  "nbformat_minor": 0,
  "metadata": {
    "colab": {
      "name": "01.image_intensity_histogram",
      "provenance": [],
      "collapsed_sections": [],
      "toc_visible": true,
      "include_colab_link": true
    },
    "kernelspec": {
      "name": "python3",
      "display_name": "Python 3"
    }
  },
  "cells": [
    {
      "cell_type": "markdown",
      "metadata": {
        "id": "view-in-github",
        "colab_type": "text"
      },
      "source": [
        "<a href=\"https://colab.research.google.com/github/machine-perception-robotics-group/ImageProcessingGoogleColabNotebooks/blob/master/01_image_intensity_histogram.ipynb\" target=\"_parent\"><img src=\"https://colab.research.google.com/assets/colab-badge.svg\" alt=\"Open In Colab\"/></a>"
      ]
    },
    {
      "cell_type": "markdown",
      "metadata": {
        "id": "844HprfC2ezF",
        "colab_type": "text"
      },
      "source": [
        "# 01. 画像の濃淡ヒストグラム\n",
        "講義で説明する画像処理の方法について，google colaboratoryを利用して演習する．\n",
        "google colaboratoryは，クラウドで実行する Jupyter ノートブック環境である.\n",
        "google coraboratoryについては，[ここ](https://www.tdi.co.jp/miso/google-colaboratory-gpu)や[ここ](https://www.codexa.net/how-to-use-google-colaboratory/)を参考にすること．\n",
        "\n",
        "下記のプログラムを実行すると，グレースケール画像を読み込み，濃淡ヒストグラムを表示する."
      ]
    },
    {
      "cell_type": "markdown",
      "metadata": {
        "id": "7Bbaet2C4U7F",
        "colab_type": "text"
      },
      "source": [
        "## 準備\n",
        "プログラムの動作に必要なデータをダウンロードし，zipファイルを解凍する．\n",
        "`!`で始まるコマンドはPythonではなく，Linux（Ubuntu）のコマンドを実行している．"
      ]
    },
    {
      "cell_type": "code",
      "metadata": {
        "id": "3NYtuZtndzQ4",
        "colab_type": "code",
        "colab": {}
      },
      "source": [
        "!wget -q http://www.mprg.cs.chubu.ac.jp/Tutorial/ML_Lecture/tutorial_ip_2020/image1.zip\n",
        "!unzip -q image1.zip\n",
        "!ls\n",
        "!ls ./image1/"
      ],
      "execution_count": 0,
      "outputs": []
    },
    {
      "cell_type": "markdown",
      "metadata": {
        "id": "mkwrQ8dwa2sZ",
        "colab_type": "text"
      },
      "source": [
        "## 画像の読み込みと表示\n",
        "画像の読み込みには，OpenCVという画像処理・画像認識のライブラリを利用する．\n",
        "OpenCVをpythonで利用する場合は，`cv2`というパッケージをインポートする．\n",
        "\n",
        "`imread`関数で画像の読み込み，`cvtColor`でカラー画像のチャネルの順番をBGRからRGBに変換している．この処理の詳細は割愛する．\n",
        "\n",
        "そして，`matplotlib`という描画するパッケージの`imshow`関数を利用して画像を表示する．\n"
      ]
    },
    {
      "cell_type": "code",
      "metadata": {
        "colab_type": "code",
        "id": "WVhRoQpaltse",
        "colab": {}
      },
      "source": [
        "import cv2\n",
        "import numpy as np\n",
        "from matplotlib import pyplot as plt\n",
        "\n",
        "# 画像の読み込み\n",
        "img_color_origin = cv2.imread('./image1/woman-color.jpg')\n",
        "\n",
        "# BGRからRGBに変換\n",
        "img_color_origin = im_rgb = cv2.cvtColor(img_color_origin, cv2.COLOR_BGR2RGB)\n",
        "\n",
        "# 画像を表示\n",
        "plt.imshow(img_color_origin)"
      ],
      "execution_count": 0,
      "outputs": []
    },
    {
      "cell_type": "markdown",
      "metadata": {
        "id": "ejM2z4_Z5RCy",
        "colab_type": "text"
      },
      "source": [
        "グレースケール画像画像を読み込む．そして，`matplotlib`の`imshow`関数で画像を表示する．\n",
        "この時，`imshow`関数の引数として`cmap=\"gray\"`を指定することで，グレースケール画像として表示をすることができる．"
      ]
    },
    {
      "cell_type": "code",
      "metadata": {
        "id": "LukgQkEa89Us",
        "colab_type": "code",
        "colab": {}
      },
      "source": [
        "# グレースケール画像を読み込む\n",
        "img_gray_g = cv2.imread('./image1/woman-g.jpg', 2)\n",
        "# 表示\n",
        "plt.imshow(img_gray_g, cmap=\"gray\")"
      ],
      "execution_count": 0,
      "outputs": []
    },
    {
      "cell_type": "markdown",
      "metadata": {
        "id": "tpgIvnrl5iji",
        "colab_type": "text"
      },
      "source": [
        "コントラストを低くしたグレースケール画像を読み込む．\n",
        "そして，`matplotlib`の`imshow`関数で画像を表示する．"
      ]
    },
    {
      "cell_type": "code",
      "metadata": {
        "id": "l1iLdtdgbWNY",
        "colab_type": "code",
        "colab": {}
      },
      "source": [
        "# コントラストを低くした画像を読み込む\n",
        "img_gray_g2 = cv2.imread('./image1/woman-g2.jpg', 2)\n",
        "# 表示\n",
        "plt.imshow(img_gray_g2, cmap=\"gray\")"
      ],
      "execution_count": 0,
      "outputs": []
    },
    {
      "cell_type": "markdown",
      "metadata": {
        "id": "OaSU1hNbz__H",
        "colab_type": "text"
      },
      "source": [
        "## 画像の仕組み"
      ]
    },
    {
      "cell_type": "markdown",
      "metadata": {
        "id": "miA-gHvm8Buh",
        "colab_type": "text"
      },
      "source": [
        "### グレースケール画像\n",
        "画像は，コンピュータ内では，2次元配列で表現されている．\n",
        "配列の各要素は画像の画素に対応する．\n",
        "各画素は8ビットで表現する場合は0から255の値となる．\n",
        "\n",
        "4*4の画像を作成する．\n",
        "まず，Pythonのリストを使用して，`img_44`に2次元の配列を作成する．\n",
        "作成した`img_44`を`imshow`関数を用いて表示することで，\n",
        "作成したグレースケール画像を表示することができる．"
      ]
    },
    {
      "cell_type": "code",
      "metadata": {
        "id": "UfgKx3F2M-rf",
        "colab_type": "code",
        "colab": {}
      },
      "source": [
        "# 2次元配列で各画素の値を決定\n",
        "img_44 =  [[ 64,   0, 128,  64],\n",
        "           [128, 255, 255,   0],\n",
        "           [  0, 255, 255, 128],\n",
        "           [ 64, 128,   0,  64]]\n",
        "# 中身を表示する\n",
        "print(img_44)\n",
        "# グレースケール画像として表示\n",
        "plt.imshow(img_44, cmap=\"gray\")"
      ],
      "execution_count": 0,
      "outputs": []
    },
    {
      "cell_type": "markdown",
      "metadata": {
        "id": "Hj7rh37AfsMz",
        "colab_type": "text"
      },
      "source": [
        "### カラー画像\n",
        " カラー画像の場合は，3次元配列となっている．\n",
        " すなわち，2次元の配列が複数ある．\n",
        " カラー画像は赤色 (R)，緑色 (G)，青色 (B) の3つのチャネルから構成されている．\n",
        " よって，3次元配列が3つある．\n",
        "\n",
        "以下では，Pythonのモジュール（ライブラリ）の1つであるNumpyを使用し，4x4のカラー画像を作成する．Numpyの基本的な使い方については，[ここ](https://qiita.com/sqrtxx/items/f37d99991e40a35ee4e0)や[ここ](https://deepage.net/features/numpy/)を参考にすること．\n",
        "\n",
        "Numpyの`zeros`関数を用いて，4x4x3の3次元配列（`image_array`）を作成する．\n",
        "`zeros`関数は，配列の要素が全て0の配列を作成する関数である．\n",
        "この時，第1引数として配列のサイズを指定する．\n",
        "ここでは，`(4, 4, 3)`と指定することで，4x4x3の3次元配列のサイズを指定する．\n",
        "また，2つ目の引数として，配列のデータの型を指定する．\n",
        "`dtype=np.uint8`と指定することで，配列の要素のデータ型を8bitの符号なし整数（8-bit unsigned integer）と指定している．\n",
        "\n",
        "次に，`image_array`の各要素に画素値を代入する．\n",
        "ここでは，for文を用いて，配列のインデックス（`h`, `w`）を指定し，指定した要素にRGB値を代入する．\n",
        "この時，`image_array[h, w]`と指定することで，1次元目は`h`，2次元目は`w`の要素を指定している．\n",
        "3次元目を指定していしないことで，`h`，`w`の箇所の3つの要素に一度に値を代入している．\n",
        "\n",
        "最後に`imshow`関数を用いて画像を表示する．"
      ]
    },
    {
      "cell_type": "code",
      "metadata": {
        "id": "82IBT9Tlfqy1",
        "colab_type": "code",
        "colab": {}
      },
      "source": [
        "# 画像の縦・横幅を指定\n",
        "height = 4\n",
        "width = 4\n",
        "\n",
        "# 要素が全て0の3次元配列を作成\n",
        "image_array = np.zeros((height, width, 3), dtype=np.uint8)\n",
        "\n",
        "# 配列の各要素に値（画素値）を代入\n",
        "for h in range(0, height):\n",
        "    for w in range(0, width):\n",
        "      image_array[h, w] = [w*64, h*64, w*h*64]\n",
        "\n",
        "print(image_array)\n",
        "# カラー画像の表示\n",
        "plt.imshow(image_array)"
      ],
      "execution_count": 0,
      "outputs": []
    },
    {
      "cell_type": "markdown",
      "metadata": {
        "id": "GQbQuRAlv_PR",
        "colab_type": "text"
      },
      "source": [
        "### 画像サイズを確認する方法\n",
        "ファイルから読み込む画像の高さと幅のサイズがわからない場合，以下のように確認することができる．\n",
        "Pythonでは，OpenCVなどで画像ファイルを読み込むと，画素値がNumpyの配列に格納される．\n",
        "Numpy配列の`shape`を確認することで，高さと幅のサイズがわかる．"
      ]
    },
    {
      "cell_type": "code",
      "metadata": {
        "id": "uPtLGV7lwCuF",
        "colab_type": "code",
        "colab": {}
      },
      "source": [
        "# 上で作成したカラー画像のデータをコピー\n",
        "img = image_array.copy()\n",
        "\n",
        " # 高さ・幅・チャンネル数の取得\n",
        "height, width, channel = img.shape\n",
        "\n",
        "# 表示\n",
        "print(\"height=\", height)\n",
        "print(\"width=\", width)\n",
        "print(img)\n",
        "plt.imshow(img, cmap = \"gray\")"
      ],
      "execution_count": 0,
      "outputs": []
    },
    {
      "cell_type": "markdown",
      "metadata": {
        "id": "deATbBJ0yfcY",
        "colab_type": "text"
      },
      "source": [
        "### 指定した画素の値を確認する\n",
        "上で示したように，コンピュータ上では，画像は2次元配列（グレースケール画像）または3次元配列（カラー画像）であり，各要素を取得することで画素値を確認できる．\n",
        "配列の各要素にアクセスするには，以下のように要素番号を指定する．\n",
        "カラー画像の場合は，R, G, Bに対応する3つの値がある．"
      ]
    },
    {
      "cell_type": "code",
      "metadata": {
        "colab_type": "code",
        "id": "-2FxPdj90_Ku",
        "colab": {}
      },
      "source": [
        "# 上で読み込んだカラー画像をコピー\n",
        "img = img_color_origin.copy()\n",
        "\n",
        " # 高さ・幅・チャンネル数の取得\n",
        "height, width, channel = img.shape\n",
        "\n",
        "# 確認したい画素の場所を指定\n",
        "x = 100\n",
        "y = 120\n",
        "\n",
        "# x, yが画像のサイズ内であれば，x, yの場所の画素値を表示\n",
        "if x < width and y < height:\n",
        "    print(img[y, x])"
      ],
      "execution_count": 0,
      "outputs": []
    },
    {
      "cell_type": "markdown",
      "metadata": {
        "id": "-dh7cBIM83xG",
        "colab_type": "text"
      },
      "source": [
        "グレースケール画像の場合も同様に以下のように要素番号を指定する．\n",
        "カラー画像と異なり，画素の値は輝度値であり，1つだけである．"
      ]
    },
    {
      "cell_type": "code",
      "metadata": {
        "colab_type": "code",
        "id": "JwkYt5zbK0gd",
        "colab": {}
      },
      "source": [
        "# 上で読み込んだグレースケール画像をコピー\n",
        "img = img_gray_g.copy()\n",
        "\n",
        "# 高さ・幅の取得\n",
        "height, width = img.shape\n",
        "\n",
        "# 確認したい画素の場所を指定\n",
        "x = 100\n",
        "y = 120\n",
        "\n",
        "# x, yが画像のサイズ内であれば，x, yの場所の画素値を表示\n",
        "if x < width and y < height:\n",
        "    print(img[y,x])"
      ],
      "execution_count": 0,
      "outputs": []
    },
    {
      "cell_type": "markdown",
      "metadata": {
        "id": "zRhL2WPB9YNt",
        "colab_type": "text"
      },
      "source": [
        "別の方法として，以下のようにfor文とif文を利用して確認する方法もある．"
      ]
    },
    {
      "cell_type": "code",
      "metadata": {
        "id": "NCqpb1dEKFaw",
        "colab_type": "code",
        "colab": {}
      },
      "source": [
        "# 上で読み込んだグレースケール画像をコピー\n",
        "img = img_gray_g.copy()\n",
        "\n",
        "# 高さ・幅の取得\n",
        "height, width = img.shape\n",
        "x = 100\n",
        "y = 120\n",
        "\n",
        "for i in range(height):\n",
        "    for j in range(width):\n",
        "        if i == y and j == x:\n",
        "          print(img[i,j])"
      ],
      "execution_count": 0,
      "outputs": []
    },
    {
      "cell_type": "markdown",
      "metadata": {
        "id": "KAecFGTIbDEY",
        "colab_type": "text"
      },
      "source": [
        "## 濃淡ヒストグラムの作成\n",
        "画像の各画素は，0から255の画素値を持つ．\n",
        "1枚の画像内にどのような画素値が含まれているか分布を濃淡ヒストグラムとして作成する．\n",
        "濃淡ヒストグラムを見ると，画素値が0に近いところに多くの画素があると暗い画像，画素値が255に近いところに多くの画素があると明るい画像と判断できる．\n",
        "\n",
        "濃淡ヒストグラムの作成には，`matplotlib`の`hist`関数を利用する．\n",
        "\n",
        "`hist`関数の第1引数に画像の画素値を入力する．\n",
        "ここで使用されている`ravel`関数は，配列を1次元に変換するものである．\n",
        "\n",
        "第2引数にヒストグラムを作成する際のbinの数を指定する．ここでは0から255の256種類の画素値のヒストグラムを作成するため，`256`と指定する．\n",
        "\n",
        "第3引数では，ヒストグラムを計算する際の各要素の取りうる値の範囲を指定する．\n",
        "画素の値は0から255のため，`[0, 256]`と指定する．\n",
        " "
      ]
    },
    {
      "cell_type": "code",
      "metadata": {
        "id": "2zZ25rtXakxg",
        "colab_type": "code",
        "colab": {}
      },
      "source": [
        "# 上で読み込んだグレースケール画像をコピー\n",
        "img = img_gray_g.copy()\n",
        "\n",
        "# hist関数を使用して濃淡ヒストグラムを作成\n",
        "plt.hist(img.ravel(), 256, [0, 256])\n",
        "\n",
        "# 作成したヒストグラムを表示\n",
        "plt.show()"
      ],
      "execution_count": 0,
      "outputs": []
    },
    {
      "cell_type": "markdown",
      "metadata": {
        "id": "ynd61m5N-kZU",
        "colab_type": "text"
      },
      "source": [
        "コントラストが低いグレースケール画像の場合の濃淡ヒストグラムは以下のようになる．"
      ]
    },
    {
      "cell_type": "code",
      "metadata": {
        "colab_type": "code",
        "id": "0BxCrZX9TX3i",
        "colab": {}
      },
      "source": [
        "#上で読み込んだ低コントラストグレースケール画像をコピー\n",
        "img = img_gray_g2.copy()\n",
        "\n",
        "# 濃淡ヒストグラムの作成と表示\n",
        "plt.hist(img.ravel(), 256, [0, 256])\n",
        "plt.show()"
      ],
      "execution_count": 0,
      "outputs": []
    },
    {
      "cell_type": "markdown",
      "metadata": {
        "id": "Qu0S4SFE325D",
        "colab_type": "text"
      },
      "source": [
        "## 濃淡ヒストグラムを利用した統計量の獲得\n",
        "濃淡ヒストグラムは各画素値の画素数をカウントしている．\n",
        "この情報を利用して，画質を評価するための統計量を獲得できる．\n",
        "\n",
        "以下では，最大画素値，最小画素値，平均画素値，画素の中央値，コントラストを計算する．"
      ]
    },
    {
      "cell_type": "code",
      "metadata": {
        "id": "Oll7p8uSarH2",
        "colab_type": "code",
        "colab": {}
      },
      "source": [
        "#上で読み込んだ低コントラストグレースケール画像をコピー\n",
        "img = img_gray_g2.copy()\n",
        "\n",
        "# 高さ・幅の取得\n",
        "height, width = img.shape\n",
        "\n",
        "# 画像の画素数を計算\n",
        "imgsize = height * width\n",
        "\n",
        "min_v = img[0][0]\n",
        "max_v = img[0][0]\n",
        "imgsum = 0\n",
        "imglist = []\n",
        "\n",
        "# for文で1つずつ画素値にアクセスする\n",
        "for h in range(height):\n",
        "    for w in range(width):\n",
        "\n",
        "        # 最小画素値\n",
        "        if img[h][w] < min_v: \n",
        "            min_v = img[h][w]\n",
        "        # 最大画素値\n",
        "        if img[h][w] > max_v:\n",
        "            max_v = img[h][w]\n",
        "        # 画素値の合計\n",
        "        imgsum += img[h][w]\n",
        "        \n",
        "        # 画素値をリストに追加\n",
        "        imglist.append(img[h][w])\n",
        "\n",
        "# 平均画素値の計算\n",
        "avg = imgsum / (imgsize)\n",
        "\n",
        "# 画素値の中央値の計算\n",
        "img_sort = sorted(imglist)\n",
        "img_len = len(imglist)\n",
        "img_len_half = int(img_len / 2)\n",
        "if img_len % 2 == 0:\n",
        "    img_median = (int(img_sort[img_len_half - 1]) + int(img_sort[img_len_half])) / 2\n",
        "else:\n",
        "    img_median = img_sort[int((img_len - 1) / 2)]\n",
        "\n",
        "print(\"min =\", min_v)\n",
        "print(\"max =\", max_v)\n",
        "print(\"avg =\", avg)\n",
        "print(\"median\", img_median)\n",
        "\n",
        "# コントラストの計算\n",
        "contrast = (int(max_v) - int(min_v)) / (int(max_v) + int(min_v))\n",
        "print(\"contrast =\", contrast)"
      ],
      "execution_count": 0,
      "outputs": []
    },
    {
      "cell_type": "markdown",
      "metadata": {
        "id": "KiZTBOxhyidx",
        "colab_type": "text"
      },
      "source": [
        "## 2値化\n",
        "画素ごとに閾値処理を行うことで2値化できる．\n",
        "閾値を変えると白 (255) と黒 (0) に2値化するための分岐点が変わる．\n",
        "2値化は，各画素に対して閾値処理するので，以下のようにfor文とif文を組み合わせて，全画素に対して処理を行う．\n"
      ]
    },
    {
      "cell_type": "code",
      "metadata": {
        "id": "FqgGJCJ2cM53",
        "colab_type": "code",
        "colab": {}
      },
      "source": [
        "img = img_gray_g.copy()\n",
        "height, width = img.shape\n",
        "\n",
        "# 閾値の設定\n",
        "thresh = 128\n",
        "\n",
        "for i in range(height):\n",
        "    for j in range(width):\n",
        "        if img[i][j] < thresh:  # 画素値が閾値未満の場合\n",
        "            img[i][j] = 0\n",
        "        else:                   # それ以外\n",
        "            img[i][j] = 255\n",
        "\n",
        "# 2値化した画像の表示\n",
        "img_b2 = img\n",
        "plt.imshow(img_b2, cmap=\"gray\")"
      ],
      "execution_count": 0,
      "outputs": []
    },
    {
      "cell_type": "markdown",
      "metadata": {
        "id": "zOQJthOxy6Py",
        "colab_type": "text"
      },
      "source": [
        "2値化した場合のヒストグラムを表示する．\n",
        "0 (白), 255 (黒) の2種類の値のみとなっていることがわかる．"
      ]
    },
    {
      "cell_type": "code",
      "metadata": {
        "id": "uby5Gc0bugZj",
        "colab_type": "code",
        "colab": {}
      },
      "source": [
        "plt.hist(img.ravel(), 256, [0, 256])\n",
        "plt.show()"
      ],
      "execution_count": 0,
      "outputs": []
    },
    {
      "cell_type": "markdown",
      "metadata": {
        "id": "AxW9lqu46Ph5",
        "colab_type": "text"
      },
      "source": [
        "## 画質の調整\n",
        "画像全体の明るさを調整する方法である線形変換は，以下のように行う．"
      ]
    },
    {
      "cell_type": "code",
      "metadata": {
        "id": "HJBhAWbKiMSz",
        "colab_type": "code",
        "colab": {}
      },
      "source": [
        "output_img = img_gray_g2.copy()\n",
        "\n",
        "# 変換後の画素値の最大・最小を指定\n",
        "D_max = 255\n",
        "D_min = 0\n",
        "\n",
        "for i in range(height):\n",
        "    for j in range(width):\n",
        "        output_img[i][j] = int(((D_max - D_min) / (max_v - min_v)) * (output_img[i][j] - min_v) + D_min)\n",
        "\n",
        "# 変換前の画像の描画\n",
        "plt.imshow(img_gray_g2, cmap=\"gray\")\n",
        "plt.title('Before')\n",
        "plt.show()\n",
        "# 変換後の画像の描画\n",
        "plt.imshow(output_img, cmap=\"gray\")\n",
        "plt.title('After')\n",
        "plt.show()"
      ],
      "execution_count": 0,
      "outputs": []
    },
    {
      "cell_type": "markdown",
      "metadata": {
        "id": "jes0_dBdLxIs",
        "colab_type": "text"
      },
      "source": [
        "目視では変換前後の違いを確認することが難しいため，濃淡ヒストグラムで比較する．"
      ]
    },
    {
      "cell_type": "code",
      "metadata": {
        "id": "hs9WLj783zfo",
        "colab_type": "code",
        "colab": {}
      },
      "source": [
        "#処理前\n",
        "plt.hist(img_gray_g2.ravel(), 256, [0, 256])\n",
        "plt.show()\n",
        "\n",
        "#処理後\n",
        "plt.hist(output_img.ravel(), 256, [0, 256])\n",
        "plt.show()"
      ],
      "execution_count": 0,
      "outputs": []
    },
    {
      "cell_type": "markdown",
      "metadata": {
        "id": "oF6vSfRpthIc",
        "colab_type": "text"
      },
      "source": [
        "## ガンマ補正\n",
        "ガンマ変換では，画像の各画素の値を非線形に変換する．\n",
        "\n",
        "以下では，ガンマ変換により画素値を変換する．\n",
        "まず，ガンマ値を指定する．\n",
        "その後，for文を用いて1画素ごとにガンマ変換を適用する．"
      ]
    },
    {
      "cell_type": "code",
      "metadata": {
        "id": "Ze9Ob9XBtfqn",
        "colab_type": "code",
        "colab": {}
      },
      "source": [
        "# 変換前の画像データを準備\n",
        "img_org = img_gray_g.copy()\n",
        "\n",
        "# ガンマ値の指定\n",
        "gamma = 5.0\n",
        " \n",
        "# ガンマ変換用の画像データを準備\n",
        "img_gamma = img_gray_g.copy()\n",
        "\n",
        "# for文で各画素にアクセスし，1画素ごとにガンマ変換を行う\n",
        "for h in range(img_gamma.shape[0]):\n",
        "    for w in range(img_gamma.shape[1]):\n",
        "        img_gamma[h, w] = int(255 * (img_gamma[h, w] / 255) ** (1.0 / gamma))\n",
        "\n",
        "# 変換前後の画像の描画\n",
        "plt.imshow(img_org,cmap = \"gray\")\n",
        "plt.title('Before')\n",
        "plt.show()\n",
        "plt.imshow(img_gamma,cmap = \"gray\")\n",
        "plt.title('After')\n",
        "plt.show()"
      ],
      "execution_count": 0,
      "outputs": []
    },
    {
      "cell_type": "markdown",
      "metadata": {
        "id": "3ldJHn4zlvUF",
        "colab_type": "text"
      },
      "source": [
        "線形変換と同様に濃淡ヒストグラムで違いを確認する．"
      ]
    },
    {
      "cell_type": "code",
      "metadata": {
        "id": "K36a6mLpl2n_",
        "colab_type": "code",
        "colab": {}
      },
      "source": [
        "#処理前\n",
        "plt.hist(img_org.ravel(), 256, [0, 256])\n",
        "plt.show()\n",
        "\n",
        "#処理後\n",
        "plt.hist(img_gamma.ravel(), 256, [0, 256])\n",
        "plt.show()"
      ],
      "execution_count": 0,
      "outputs": []
    },
    {
      "cell_type": "markdown",
      "metadata": {
        "id": "A2vqPdwJ6EGL",
        "colab_type": "text"
      },
      "source": [
        "## 課題\n",
        "### 画像の変換\n",
        "*   画質の調整について，プログラムの`D_max`, `D_min`の値を変更すると画像はどのようになるか確認すること\n",
        "*   ガンマ補正について，ガンマ値を変更すると画像はどのようになるか確認すること．\n",
        "\n"
      ]
    }
  ]
}